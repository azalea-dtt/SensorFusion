{
 "cells": [
  {
   "cell_type": "code",
   "execution_count": null,
   "id": "d0eb4f16-5a99-460d-a5ba-706b7ef0bbe7",
   "metadata": {
    "id": "bA5ajAmk7XH6"
   },
   "outputs": [],
   "source": [
    "# This notebook demonstrates methods for understanding/visualizingthe dataset/ dimension reduction/feature engineering\n",
    "# Dataset: https://www.cis.fordham.edu/wisdm/dataset.php#actitracker\n",
    "# We use: the accelerator raw data"
   ]
  },
  {
   "cell_type": "code",
   "execution_count": null,
   "id": "6a081a1e-8554-47c1-93bd-1b655f9a0a14",
   "metadata": {},
   "outputs": [],
   "source": [
    "# libraries\n",
    "import numpy as np\n",
    "import pandas as pd\n",
    "import matplotlib.pyplot as plt\n",
    "import seaborn as sns\n",
    "\n",
    "from scipy import stats\n",
    "from scipy.signal import find_peaks"
   ]
  },
  {
   "cell_type": "code",
   "execution_count": null,
   "id": "5d091f76-0b97-453c-bbd1-069369a7f2ba",
   "metadata": {},
   "outputs": [],
   "source": [
    "# load the data\n",
    "columns = ['user','activity','timestamp', 'x-axis', 'y-axis', 'z-axis']\n",
    "df = pd.read_csv('WISDM_ar_v1.1_raw.txt', header = None, names = columns)\n"
   ]
  },
  {
   "cell_type": "markdown",
   "id": "e0195394-3a45-49bd-9607-8867ce93a0e5",
   "metadata": {},
   "source": [
    "33,Jogging,49105962326000,-0.6946377,12.680544,0.50395286;\n",
    "\n",
    "Sampling rate: \n",
    "20Hz (1 sample every 50ms)\n",
    "\n",
    "Fields:\n",
    "*user\n",
    "\tnominal, 1..36\n",
    "\n",
    "*activity\n",
    "\tnominal, {\n",
    "\t\tWalking\n",
    "\t\tJogging\n",
    "\t\tSitting\n",
    "\t\tStanding\n",
    "\t\tUpstairs\n",
    "\t\tDownstairs }\n",
    "\n",
    "*timestamp\n",
    "\tnumeric, generally the phone's uptime in nanoseconds\n",
    "\t\t(In future datasets this will be miliseconds\n",
    "\t\tsince unix epoch.)\n",
    "\n",
    "*x-acceleration\n",
    "\tnumeric, floating-point values between -20 .. 20\n",
    "\t\tThe acceleration in the x direction as measured\n",
    "\t\tby the android phone's accelerometer. \n",
    "\t\tA value of 10 = 1g = 9.81 m/s^2, and\n",
    "\t\t0 = no acceleration.\n",
    "\t\tThe acceleration recorded includes gravitational\n",
    "\t\tacceleration toward the center of the Earth, so\n",
    "\t\tthat when the phone is at rest on a flat surface\n",
    "\t\tthe vertical axis will register +-10. \n",
    "\n",
    "*y-accel\n",
    "\tnumeric, see x-acceleration\n",
    "\n",
    "*z-accel\n",
    "        numeric, see x-acceleration\n"
   ]
  },
  {
   "cell_type": "code",
   "execution_count": null,
   "id": "eeb2a6ba-d9a0-4c3d-b28f-cc6fce2dea70",
   "metadata": {},
   "outputs": [
    {
     "data": {
      "text/plain": [
       "(1098204, 6)"
      ]
     },
     "execution_count": 75,
     "metadata": {},
     "output_type": "execute_result"
    }
   ],
   "source": [
    "df.shape"
   ]
  },
  {
   "cell_type": "code",
   "execution_count": null,
   "id": "25d66187-611a-4da4-85c0-7abde7df5bd0",
   "metadata": {},
   "outputs": [
    {
     "data": {
      "text/html": [
       "<div>\n",
       "<style scoped>\n",
       "    .dataframe tbody tr th:only-of-type {\n",
       "        vertical-align: middle;\n",
       "    }\n",
       "\n",
       "    .dataframe tbody tr th {\n",
       "        vertical-align: top;\n",
       "    }\n",
       "\n",
       "    .dataframe thead th {\n",
       "        text-align: right;\n",
       "    }\n",
       "</style>\n",
       "<table border=\"1\" class=\"dataframe\">\n",
       "  <thead>\n",
       "    <tr style=\"text-align: right;\">\n",
       "      <th></th>\n",
       "      <th>user</th>\n",
       "      <th>activity</th>\n",
       "      <th>timestamp</th>\n",
       "      <th>x-axis</th>\n",
       "      <th>y-axis</th>\n",
       "      <th>z-axis</th>\n",
       "    </tr>\n",
       "  </thead>\n",
       "  <tbody>\n",
       "    <tr>\n",
       "      <th>0</th>\n",
       "      <td>33</td>\n",
       "      <td>Jogging</td>\n",
       "      <td>49105962326000</td>\n",
       "      <td>-0.694638</td>\n",
       "      <td>12.680544</td>\n",
       "      <td>0.50395286;</td>\n",
       "    </tr>\n",
       "    <tr>\n",
       "      <th>1</th>\n",
       "      <td>33</td>\n",
       "      <td>Jogging</td>\n",
       "      <td>49106062271000</td>\n",
       "      <td>5.012288</td>\n",
       "      <td>11.264028</td>\n",
       "      <td>0.95342433;</td>\n",
       "    </tr>\n",
       "    <tr>\n",
       "      <th>2</th>\n",
       "      <td>33</td>\n",
       "      <td>Jogging</td>\n",
       "      <td>49106112167000</td>\n",
       "      <td>4.903325</td>\n",
       "      <td>10.882658</td>\n",
       "      <td>-0.08172209;</td>\n",
       "    </tr>\n",
       "    <tr>\n",
       "      <th>3</th>\n",
       "      <td>33</td>\n",
       "      <td>Jogging</td>\n",
       "      <td>49106222305000</td>\n",
       "      <td>-0.612916</td>\n",
       "      <td>18.496431</td>\n",
       "      <td>3.0237172;</td>\n",
       "    </tr>\n",
       "    <tr>\n",
       "      <th>4</th>\n",
       "      <td>33</td>\n",
       "      <td>Jogging</td>\n",
       "      <td>49106332290000</td>\n",
       "      <td>-1.184970</td>\n",
       "      <td>12.108489</td>\n",
       "      <td>7.205164;</td>\n",
       "    </tr>\n",
       "  </tbody>\n",
       "</table>\n",
       "</div>"
      ],
      "text/plain": [
       "   user activity       timestamp    x-axis     y-axis        z-axis\n",
       "0    33  Jogging  49105962326000 -0.694638  12.680544   0.50395286;\n",
       "1    33  Jogging  49106062271000  5.012288  11.264028   0.95342433;\n",
       "2    33  Jogging  49106112167000  4.903325  10.882658  -0.08172209;\n",
       "3    33  Jogging  49106222305000 -0.612916  18.496431    3.0237172;\n",
       "4    33  Jogging  49106332290000 -1.184970  12.108489     7.205164;"
      ]
     },
     "execution_count": 76,
     "metadata": {},
     "output_type": "execute_result"
    }
   ],
   "source": [
    "df.head()\n"
   ]
  },
  {
   "cell_type": "code",
   "execution_count": null,
   "id": "1e00de75-3a81-4938-860e-d69cb4eca727",
   "metadata": {},
   "outputs": [
    {
     "data": {
      "text/plain": [
       "user         0\n",
       "activity     0\n",
       "timestamp    0\n",
       "x-axis       0\n",
       "y-axis       0\n",
       "z-axis       1\n",
       "dtype: int64"
      ]
     },
     "execution_count": 77,
     "metadata": {},
     "output_type": "execute_result"
    }
   ],
   "source": [
    "# identify missing values\n",
    "df.isna().sum()"
   ]
  },
  {
   "cell_type": "code",
   "execution_count": null,
   "id": "cb63939c-5987-4597-a0ec-5abc57b7394b",
   "metadata": {},
   "outputs": [
    {
     "data": {
      "text/plain": [
       "user         0.000000e+00\n",
       "activity     0.000000e+00\n",
       "timestamp    0.000000e+00\n",
       "x-axis       0.000000e+00\n",
       "y-axis       0.000000e+00\n",
       "z-axis       9.105776e-07\n",
       "dtype: float64"
      ]
     },
     "execution_count": 78,
     "metadata": {},
     "output_type": "execute_result"
    }
   ],
   "source": [
    "\n",
    "# calculate the percentage of missing values\n",
    "df.isna().sum()/len(df)"
   ]
  },
  {
   "cell_type": "code",
   "execution_count": null,
   "id": "3cd41402-24a9-4fbe-a485-accffbee57cc",
   "metadata": {},
   "outputs": [
    {
     "data": {
      "text/plain": [
       "(1098203, 6)"
      ]
     },
     "execution_count": 79,
     "metadata": {},
     "output_type": "execute_result"
    }
   ],
   "source": [
    "# drop na value\n",
    "df = df.dropna()\n",
    "df.shape"
   ]
  },
  {
   "cell_type": "code",
   "execution_count": null,
   "id": "fbf5b612-0625-4a20-be1c-9e06208c3d55",
   "metadata": {},
   "outputs": [
    {
     "name": "stdout",
     "output_type": "stream",
     "text": [
      "user         True\n",
      "activity     True\n",
      "timestamp    True\n",
      "x-axis       True\n",
      "y-axis       True\n",
      "z-axis       True\n",
      "dtype: bool\n"
     ]
    },
    {
     "data": {
      "text/html": [
       "<div>\n",
       "<style scoped>\n",
       "    .dataframe tbody tr th:only-of-type {\n",
       "        vertical-align: middle;\n",
       "    }\n",
       "\n",
       "    .dataframe tbody tr th {\n",
       "        vertical-align: top;\n",
       "    }\n",
       "\n",
       "    .dataframe thead th {\n",
       "        text-align: right;\n",
       "    }\n",
       "</style>\n",
       "<table border=\"1\" class=\"dataframe\">\n",
       "  <thead>\n",
       "    <tr style=\"text-align: right;\">\n",
       "      <th></th>\n",
       "      <th>user</th>\n",
       "      <th>activity</th>\n",
       "      <th>timestamp</th>\n",
       "      <th>x-axis</th>\n",
       "      <th>y-axis</th>\n",
       "      <th>z-axis</th>\n",
       "    </tr>\n",
       "  </thead>\n",
       "  <tbody>\n",
       "    <tr>\n",
       "      <th>0</th>\n",
       "      <td>33</td>\n",
       "      <td>Jogging</td>\n",
       "      <td>49105962326000</td>\n",
       "      <td>-0.694638</td>\n",
       "      <td>12.680544</td>\n",
       "      <td>0.50395286;</td>\n",
       "    </tr>\n",
       "    <tr>\n",
       "      <th>1</th>\n",
       "      <td>33</td>\n",
       "      <td>Jogging</td>\n",
       "      <td>49106062271000</td>\n",
       "      <td>5.012288</td>\n",
       "      <td>11.264028</td>\n",
       "      <td>0.95342433;</td>\n",
       "    </tr>\n",
       "    <tr>\n",
       "      <th>2</th>\n",
       "      <td>33</td>\n",
       "      <td>Jogging</td>\n",
       "      <td>49106112167000</td>\n",
       "      <td>4.903325</td>\n",
       "      <td>10.882658</td>\n",
       "      <td>-0.08172209;</td>\n",
       "    </tr>\n",
       "    <tr>\n",
       "      <th>3</th>\n",
       "      <td>33</td>\n",
       "      <td>Jogging</td>\n",
       "      <td>49106222305000</td>\n",
       "      <td>-0.612916</td>\n",
       "      <td>18.496431</td>\n",
       "      <td>3.0237172;</td>\n",
       "    </tr>\n",
       "    <tr>\n",
       "      <th>4</th>\n",
       "      <td>33</td>\n",
       "      <td>Jogging</td>\n",
       "      <td>49106332290000</td>\n",
       "      <td>-1.184970</td>\n",
       "      <td>12.108489</td>\n",
       "      <td>7.205164;</td>\n",
       "    </tr>\n",
       "  </tbody>\n",
       "</table>\n",
       "</div>"
      ],
      "text/plain": [
       "   user activity       timestamp    x-axis     y-axis        z-axis\n",
       "0    33  Jogging  49105962326000 -0.694638  12.680544   0.50395286;\n",
       "1    33  Jogging  49106062271000  5.012288  11.264028   0.95342433;\n",
       "2    33  Jogging  49106112167000  4.903325  10.882658  -0.08172209;\n",
       "3    33  Jogging  49106222305000 -0.612916  18.496431    3.0237172;\n",
       "4    33  Jogging  49106332290000 -1.184970  12.108489     7.205164;"
      ]
     },
     "execution_count": 80,
     "metadata": {},
     "output_type": "execute_result"
    }
   ],
   "source": [
    "# We found that in z axis, there's a missing value\n",
    "# Tips:\n",
    "# We can use a threshold of percentage of missing values to decide if we can drop that data column\n",
    "# In the following example, the percentage is 30%\n",
    "mask = df.isna().sum()/len(df) < 0.3\n",
    "print(mask)\n",
    "reduced_df = df.loc[:,mask]\n",
    "reduced_df.head()\n",
    "# This dataset does not need to drop any column\n"
   ]
  },
  {
   "cell_type": "code",
   "execution_count": null,
   "id": "63130d5e-dd5d-44f6-bb04-10cf0fa44778",
   "metadata": {},
   "outputs": [
    {
     "data": {
      "text/html": [
       "<div>\n",
       "<style scoped>\n",
       "    .dataframe tbody tr th:only-of-type {\n",
       "        vertical-align: middle;\n",
       "    }\n",
       "\n",
       "    .dataframe tbody tr th {\n",
       "        vertical-align: top;\n",
       "    }\n",
       "\n",
       "    .dataframe thead th {\n",
       "        text-align: right;\n",
       "    }\n",
       "</style>\n",
       "<table border=\"1\" class=\"dataframe\">\n",
       "  <thead>\n",
       "    <tr style=\"text-align: right;\">\n",
       "      <th></th>\n",
       "      <th>user</th>\n",
       "      <th>activity</th>\n",
       "      <th>timestamp</th>\n",
       "      <th>x-axis</th>\n",
       "      <th>y-axis</th>\n",
       "      <th>z-axis</th>\n",
       "    </tr>\n",
       "  </thead>\n",
       "  <tbody>\n",
       "    <tr>\n",
       "      <th>0</th>\n",
       "      <td>33</td>\n",
       "      <td>Jogging</td>\n",
       "      <td>49105962326000</td>\n",
       "      <td>-0.694638</td>\n",
       "      <td>12.680544</td>\n",
       "      <td>0.503953</td>\n",
       "    </tr>\n",
       "    <tr>\n",
       "      <th>1</th>\n",
       "      <td>33</td>\n",
       "      <td>Jogging</td>\n",
       "      <td>49106062271000</td>\n",
       "      <td>5.012288</td>\n",
       "      <td>11.264028</td>\n",
       "      <td>0.953424</td>\n",
       "    </tr>\n",
       "    <tr>\n",
       "      <th>2</th>\n",
       "      <td>33</td>\n",
       "      <td>Jogging</td>\n",
       "      <td>49106112167000</td>\n",
       "      <td>4.903325</td>\n",
       "      <td>10.882658</td>\n",
       "      <td>-0.081722</td>\n",
       "    </tr>\n",
       "    <tr>\n",
       "      <th>3</th>\n",
       "      <td>33</td>\n",
       "      <td>Jogging</td>\n",
       "      <td>49106222305000</td>\n",
       "      <td>-0.612916</td>\n",
       "      <td>18.496431</td>\n",
       "      <td>3.023717</td>\n",
       "    </tr>\n",
       "    <tr>\n",
       "      <th>4</th>\n",
       "      <td>33</td>\n",
       "      <td>Jogging</td>\n",
       "      <td>49106332290000</td>\n",
       "      <td>-1.184970</td>\n",
       "      <td>12.108489</td>\n",
       "      <td>7.205164</td>\n",
       "    </tr>\n",
       "  </tbody>\n",
       "</table>\n",
       "</div>"
      ],
      "text/plain": [
       "   user activity       timestamp    x-axis     y-axis    z-axis\n",
       "0    33  Jogging  49105962326000 -0.694638  12.680544  0.503953\n",
       "1    33  Jogging  49106062271000  5.012288  11.264028  0.953424\n",
       "2    33  Jogging  49106112167000  4.903325  10.882658 -0.081722\n",
       "3    33  Jogging  49106222305000 -0.612916  18.496431  3.023717\n",
       "4    33  Jogging  49106332290000 -1.184970  12.108489  7.205164"
      ]
     },
     "execution_count": 81,
     "metadata": {},
     "output_type": "execute_result"
    }
   ],
   "source": [
    "# remove ';' at the end of z-axis\n",
    "df['z-axis'] = df['z-axis'].str.replace(';', '')\n",
    "df['z-axis'] = df['z-axis'].apply(lambda x: float(x))\n",
    "\n",
    "df.head()"
   ]
  },
  {
   "cell_type": "code",
   "execution_count": null,
   "id": "8ee430b7-6d04-4556-bfc4-ea9f184a3f19",
   "metadata": {},
   "outputs": [
    {
     "data": {
      "text/plain": [
       "(1085360, 6)"
      ]
     },
     "execution_count": 82,
     "metadata": {},
     "output_type": "execute_result"
    }
   ],
   "source": [
    "# check the timestamp\n",
    "df = df[df['timestamp'] != 0]\n",
    "df.shape"
   ]
  },
  {
   "cell_type": "code",
   "execution_count": null,
   "id": "7a1a3693-cc2c-4bc4-a386-298fe52d22f9",
   "metadata": {},
   "outputs": [],
   "source": [
    "# sort data\n",
    "df.sort_values(['user', 'timestamp'], ascending=[True, True], inplace=True)"
   ]
  },
  {
   "cell_type": "code",
   "execution_count": null,
   "id": "59e4bc91-e805-4ab8-aa3f-bcd16b6c2b7c",
   "metadata": {},
   "outputs": [
    {
     "data": {
      "text/html": [
       "<div>\n",
       "<style scoped>\n",
       "    .dataframe tbody tr th:only-of-type {\n",
       "        vertical-align: middle;\n",
       "    }\n",
       "\n",
       "    .dataframe tbody tr th {\n",
       "        vertical-align: top;\n",
       "    }\n",
       "\n",
       "    .dataframe thead th {\n",
       "        text-align: right;\n",
       "    }\n",
       "</style>\n",
       "<table border=\"1\" class=\"dataframe\">\n",
       "  <thead>\n",
       "    <tr style=\"text-align: right;\">\n",
       "      <th></th>\n",
       "      <th>x-axis</th>\n",
       "      <th>y-axis</th>\n",
       "      <th>z-axis</th>\n",
       "    </tr>\n",
       "  </thead>\n",
       "  <tbody>\n",
       "    <tr>\n",
       "      <th>941960</th>\n",
       "      <td>0.69</td>\n",
       "      <td>10.80</td>\n",
       "      <td>-2.03</td>\n",
       "    </tr>\n",
       "    <tr>\n",
       "      <th>941961</th>\n",
       "      <td>6.85</td>\n",
       "      <td>7.44</td>\n",
       "      <td>-0.50</td>\n",
       "    </tr>\n",
       "    <tr>\n",
       "      <th>941962</th>\n",
       "      <td>0.93</td>\n",
       "      <td>5.63</td>\n",
       "      <td>-0.50</td>\n",
       "    </tr>\n",
       "    <tr>\n",
       "      <th>941963</th>\n",
       "      <td>-2.11</td>\n",
       "      <td>5.01</td>\n",
       "      <td>-0.69</td>\n",
       "    </tr>\n",
       "    <tr>\n",
       "      <th>941964</th>\n",
       "      <td>-4.59</td>\n",
       "      <td>4.29</td>\n",
       "      <td>-1.95</td>\n",
       "    </tr>\n",
       "  </tbody>\n",
       "</table>\n",
       "</div>"
      ],
      "text/plain": [
       "        x-axis  y-axis  z-axis\n",
       "941960    0.69   10.80   -2.03\n",
       "941961    6.85    7.44   -0.50\n",
       "941962    0.93    5.63   -0.50\n",
       "941963   -2.11    5.01   -0.69\n",
       "941964   -4.59    4.29   -1.95"
      ]
     },
     "execution_count": 84,
     "metadata": {},
     "output_type": "execute_result"
    }
   ],
   "source": [
    "# create a subset df with only x,y,z\n",
    "columns = ['x-axis','y-axis','z-axis']\n",
    "accel_df = df[columns]\n",
    "accel_df.head()\n",
    "\n"
   ]
  },
  {
   "cell_type": "code",
   "execution_count": null,
   "id": "4a2bd8e0-1b01-4fd2-9298-1ca806a45fb4",
   "metadata": {},
   "outputs": [
    {
     "data": {
      "text/html": [
       "<div>\n",
       "<style scoped>\n",
       "    .dataframe tbody tr th:only-of-type {\n",
       "        vertical-align: middle;\n",
       "    }\n",
       "\n",
       "    .dataframe tbody tr th {\n",
       "        vertical-align: top;\n",
       "    }\n",
       "\n",
       "    .dataframe thead th {\n",
       "        text-align: right;\n",
       "    }\n",
       "</style>\n",
       "<table border=\"1\" class=\"dataframe\">\n",
       "  <thead>\n",
       "    <tr style=\"text-align: right;\">\n",
       "      <th></th>\n",
       "      <th>x-axis</th>\n",
       "      <th>y-axis</th>\n",
       "      <th>z-axis</th>\n",
       "    </tr>\n",
       "  </thead>\n",
       "  <tbody>\n",
       "    <tr>\n",
       "      <th>x-axis</th>\n",
       "      <td>1.000000</td>\n",
       "      <td>0.028089</td>\n",
       "      <td>0.067903</td>\n",
       "    </tr>\n",
       "    <tr>\n",
       "      <th>y-axis</th>\n",
       "      <td>0.028089</td>\n",
       "      <td>1.000000</td>\n",
       "      <td>0.016396</td>\n",
       "    </tr>\n",
       "    <tr>\n",
       "      <th>z-axis</th>\n",
       "      <td>0.067903</td>\n",
       "      <td>0.016396</td>\n",
       "      <td>1.000000</td>\n",
       "    </tr>\n",
       "  </tbody>\n",
       "</table>\n",
       "</div>"
      ],
      "text/plain": [
       "          x-axis    y-axis    z-axis\n",
       "x-axis  1.000000  0.028089  0.067903\n",
       "y-axis  0.028089  1.000000  0.016396\n",
       "z-axis  0.067903  0.016396  1.000000"
      ]
     },
     "execution_count": 85,
     "metadata": {},
     "output_type": "execute_result"
    }
   ],
   "source": [
    "#create a correlation matrix\n",
    "accel_df.corr()"
   ]
  },
  {
   "cell_type": "code",
   "execution_count": null,
   "id": "b4021f03-724d-4359-bc34-8c5660d6caa2",
   "metadata": {},
   "outputs": [
    {
     "data": {
      "image/png": "[encoded data removed]",
      "text/plain": [
       "<Figure size 432x288 with 1 Axes>"
      ]
     },
     "metadata": {},
     "output_type": "display_data"
    }
   ],
   "source": [
    "# visualization\n",
    "sns.set_style('whitegrid')\n",
    "sns.countplot(x='activity',data=df)\n",
    "plt.show()\n"
   ]
  },
  {
   "cell_type": "code",
   "execution_count": null,
   "id": "efb0c5c4-dde4-47ee-a1f8-5681275614a3",
   "metadata": {},
   "outputs": [
    {
     "data": {
      "image/png": "[encoded data removed]",
      "text/plain": [
       "<Figure size 432x288 with 1 Axes>"
      ]
     },
     "metadata": {},
     "output_type": "display_data"
    }
   ],
   "source": [
    "# activities by users\n",
    "sns.countplot(x = 'user', hue = 'activity', data = df)\n",
    "plt.show()"
   ]
  },
  {
   "cell_type": "code",
   "execution_count": null,
   "id": "5f80dd5a-5144-4577-8b80-2d849fdb048f",
   "metadata": {},
   "outputs": [
    {
     "data": {
      "text/plain": [
       "<AxesSubplot:>"
      ]
     },
     "execution_count": 88,
     "metadata": {},
     "output_type": "execute_result"
    },
    {
     "data": {
      "image/png": "[encoded data removed]",
      "text/plain": [
       "<Figure size 432x288 with 2 Axes>"
      ]
     },
     "metadata": {},
     "output_type": "display_data"
    }
   ],
   "source": [
    "# visualizing the correlation matrix\n",
    "cmap = sns.diverging_palette(h_neg=10, h_pos=240, as_cmap = True)\n",
    "sns.heatmap(accel_df.corr(), center=0,cmap=cmap, linewidths=1, annot=True, fmt=\".2f\")"
   ]
  },
  {
   "cell_type": "code",
   "execution_count": null,
   "id": "a75ee176-dddb-4269-a84c-12b08d556482",
   "metadata": {},
   "outputs": [
    {
     "data": {
      "text/plain": [
       "<AxesSubplot:>"
      ]
     },
     "execution_count": 89,
     "metadata": {},
     "output_type": "execute_result"
    },
    {
     "data": {
      "image/png": "[encoded data removed]",
      "text/plain": [
       "<Figure size 432x288 with 2 Axes>"
      ]
     },
     "metadata": {},
     "output_type": "display_data"
    }
   ],
   "source": [
    "# visualizing the correlation matrix for the upper triangle of the plot\n",
    "mask = np.triu(np.ones_like(accel_df.corr(), dtype = bool))\n",
    "sns.heatmap(accel_df.corr(), mask=mask,center=0, cmap=cmap, linewidths=1, annot=True, fmt=\".2f\")              "
   ]
  },
  {
   "cell_type": "code",
   "execution_count": null,
   "id": "051d08db-bb6d-472b-b170-8e3ecb12890c",
   "metadata": {},
   "outputs": [],
   "source": []
  }
 ],
 "metadata": {
  "colab": {
   "name": "Welcome to DataCamp Workspaces.ipynb",
   "provenance": []
  },
  "kernelspec": {
   "display_name": "Python 3 (ipykernel)",
   "language": "python",
   "name": "python3"
  },
  "language_info": {
   "codemirror_mode": {
    "name": "ipython",
    "version": 3
   },
   "file_extension": ".py",
   "mimetype": "text/x-python",
   "name": "python",
   "nbconvert_exporter": "python",
   "pygments_lexer": "ipython3",
   "version": "3.8.10"
  }
 },
 "nbformat": 4,
 "nbformat_minor": 5
}
